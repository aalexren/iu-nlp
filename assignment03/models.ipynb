{
 "cells": [
  {
   "attachments": {},
   "cell_type": "markdown",
   "metadata": {},
   "source": [
    "# Natasha"
   ]
  },
  {
   "cell_type": "code",
   "execution_count": 1,
   "metadata": {},
   "outputs": [],
   "source": [
    "from natasha import (\n",
    "    Segmenter,\n",
    "    MorphVocab,\n",
    "    \n",
    "    NewsEmbedding,\n",
    "    NewsMorphTagger,\n",
    "    NewsSyntaxParser,\n",
    "    NewsNERTagger,\n",
    "    \n",
    "    PER,\n",
    "    NamesExtractor,\n",
    "\n",
    "    Doc\n",
    ")"
   ]
  },
  {
   "cell_type": "code",
   "execution_count": 2,
   "metadata": {},
   "outputs": [],
   "source": [
    "with open('./data/test_data/1135.txt') as file:\n",
    "    text = file.read()"
   ]
  },
  {
   "cell_type": "code",
   "execution_count": 3,
   "metadata": {},
   "outputs": [
    {
     "name": "stdout",
     "output_type": "stream",
     "text": [
      "Глава департамента ЦБ РФ Надежда Иванова получила статус зампреда\n",
      "\n",
      "Иванова, которой 13 июня исполнилось 60 лет, всю свою жизнь проработала в системе ЦБ. Сводный экономический департамент Банка России возглавляет с 1995 года.\n",
      "Здание Центрального банка РФ. Архив\n",
      "\n",
      "Директор сводного экономического департамента Банка России Надежда Иванова назначена также на должность заместителя председателя ЦБ, сообщил в четверг регулятор.\n",
      "\n",
      "\n",
      "\n",
      "Иванова, у которой 13 июня был 60-летний юбилей, работает в системе Банка России (ранее — Госбанка СССР) с окончания института, то есть с 1975 года. Сводный экономический департамент возглавляет почти 20 лет — с 1995 года.\n",
      "\n",
      "Иванова входит в совет директоров Центробанка. До сводного экономического департамента она трудилась в департаменте банковского надзора.\n",
      "\n",
      "Сводный экономический департамент входит в блок денежно-кредитной политики.\n",
      "\n",
      "Это первое назначение нового председателя Банка России Эльвиры Набиуллиной на этом посту. Раньше в руководстве Центробанка преобладали мужчины. Эксперты ждут назначения на пост первого зампреда ЦБ по вопросам денежно-кредитной политики Ксении Юдаевой, возглавляющей экспертное управление президента РФ. Ранее этот пост занимал Алексей Улюкаев, который в понедельник стал руководителем Минэкономразвития.\n"
     ]
    }
   ],
   "source": [
    "print(text)"
   ]
  },
  {
   "cell_type": "code",
   "execution_count": 4,
   "metadata": {},
   "outputs": [],
   "source": [
    "segmenter = Segmenter()\n",
    "morph_vocab = MorphVocab()\n",
    "\n",
    "emb = NewsEmbedding()\n",
    "morph_tagger = NewsMorphTagger(emb)\n",
    "syntax_parser = NewsSyntaxParser(emb)\n",
    "ner_tagger = NewsNERTagger(emb)\n",
    "\n",
    "names_extractor = NamesExtractor(morph_vocab)\n",
    "\n",
    "doc = Doc(text)"
   ]
  },
  {
   "cell_type": "code",
   "execution_count": 5,
   "metadata": {},
   "outputs": [
    {
     "name": "stdout",
     "output_type": "stream",
     "text": [
      "[DocToken(stop=5, text='Глава'), DocToken(start=6, stop=18, text='департамента'), DocToken(start=19, stop=21, text='ЦБ'), DocToken(start=22, stop=24, text='РФ'), DocToken(start=25, stop=32, text='Надежда')]\n",
      "[DocSent(stop=152, text='Глава департамента ЦБ РФ Надежда Иванова получила..., tokens=[...]), DocSent(start=153, stop=224, text='Сводный экономический департамент Банка России во..., tokens=[...]), DocSent(start=225, stop=254, text='Здание Центрального банка РФ.', tokens=[...]), DocSent(start=255, stop=423, text='Архив\\n\\nДиректор сводного экономического департа..., tokens=[...]), DocSent(start=427, stop=575, text='Иванова, у которой 13 июня был 60-летний юбилей, ..., tokens=[...])]\n"
     ]
    }
   ],
   "source": [
    "doc.segment(segmenter)\n",
    "print(doc.tokens[:5])\n",
    "print(doc.sents[:5])"
   ]
  },
  {
   "cell_type": "code",
   "execution_count": 43,
   "metadata": {},
   "outputs": [
    {
     "name": "stdout",
     "output_type": "stream",
     "text": [
      "[DocSpan(start=19, stop=21, type='ORG', text='ЦБ', tokens=[...]), DocSpan(start=22, stop=24, type='LOC', text='РФ', tokens=[...]), DocSpan(start=25, stop=40, type='PER', text='Надежда Иванова', tokens=[...]), DocSpan(start=67, stop=74, type='PER', text='Иванова', tokens=[...]), DocSpan(start=149, stop=151, type='ORG', text='ЦБ', tokens=[...])]\n",
      "Глава департамента ЦБ РФ Надежда Иванова получила статус зампреда\n",
      "                   OR LO PER────────────                         \n",
      "Иванова, которой 13 июня исполнилось 60 лет, всю свою жизнь \n",
      "PER────                                                     \n",
      "проработала в системе ЦБ. Сводный экономический департамент Банка \n",
      "                      OR                                    ORG───\n",
      "России возглавляет с 1995 года.\n",
      "──────                         \n",
      "Здание Центрального банка РФ. Архив\n",
      "       ORG─────────────── LO       \n",
      "Директор сводного экономического департамента Банка России Надежда \n",
      "                                              ORG───────── PER─────\n",
      "Иванова назначена также на должность заместителя председателя ЦБ, \n",
      "───────                                                       OR  \n",
      "сообщил в четверг регулятор.\n",
      "Иванова, у которой 13 июня был 60-летний юбилей, работает в системе \n",
      "PER────                                                             \n",
      "Банка России (ранее — Госбанка СССР) с окончания института, то есть с \n",
      "ORG─────────          ORG───── LOC─                                   \n",
      "1975 года. Сводный экономический департамент возглавляет почти 20 лет \n",
      "— с 1995 года.\n",
      "Иванова входит в совет директоров Центробанка. До сводного \n",
      "PER────                           ORG────────              \n",
      "экономического департамента она трудилась в департаменте банковского \n",
      "надзора.\n",
      "Сводный экономический департамент входит в блок денежно-кредитной \n",
      "политики.\n",
      "Это первое назначение нового председателя Банка России Эльвиры \n",
      "                                          ORG───────── PER─────\n",
      "Набиуллиной на этом посту. Раньше в руководстве Центробанка \n",
      "───────────                                     ORG──────── \n",
      "преобладали мужчины. Эксперты ждут назначения на пост первого зампреда\n",
      " ЦБ по вопросам денежно-кредитной политики Ксении Юдаевой, \n",
      " OR                                        PER───────────  \n",
      "возглавляющей экспертное управление президента РФ. Ранее этот пост \n",
      "                                               LO                  \n",
      "занимал Алексей Улюкаев, который в понедельник стал руководителем \n",
      "        PER────────────                                           \n",
      "Минэкономразвития.\n",
      "ORG────────────── \n"
     ]
    }
   ],
   "source": [
    "doc.tag_ner(ner_tagger)\n",
    "print(doc.spans[:5])\n",
    "doc.ner.print()"
   ]
  },
  {
   "cell_type": "code",
   "execution_count": 44,
   "metadata": {},
   "outputs": [
    {
     "data": {
      "text/plain": [
       "[DocSpan(start=19, stop=21, type='ORG', text='ЦБ', tokens=[...]),\n",
       " DocSpan(start=22, stop=24, type='LOC', text='РФ', tokens=[...]),\n",
       " DocSpan(start=25, stop=40, type='PER', text='Надежда Иванова', tokens=[...]),\n",
       " DocSpan(start=67, stop=74, type='PER', text='Иванова', tokens=[...]),\n",
       " DocSpan(start=149, stop=151, type='ORG', text='ЦБ', tokens=[...]),\n",
       " DocSpan(start=187, stop=199, type='ORG', text='Банка России', tokens=[...]),\n",
       " DocSpan(start=232, stop=250, type='ORG', text='Центрального банка', tokens=[...]),\n",
       " DocSpan(start=251, stop=253, type='LOC', text='РФ', tokens=[...]),\n",
       " DocSpan(start=308, stop=320, type='ORG', text='Банка России', tokens=[...]),\n",
       " DocSpan(start=321, stop=336, type='PER', text='Надежда Иванова', tokens=[...]),\n",
       " DocSpan(start=391, stop=393, type='ORG', text='ЦБ', tokens=[...]),\n",
       " DocSpan(start=427, stop=434, type='PER', text='Иванова', tokens=[...]),\n",
       " DocSpan(start=495, stop=507, type='ORG', text='Банка России', tokens=[...]),\n",
       " DocSpan(start=517, stop=525, type='ORG', text='Госбанка', tokens=[...]),\n",
       " DocSpan(start=526, stop=530, type='LOC', text='СССР', tokens=[...]),\n",
       " DocSpan(start=651, stop=658, type='PER', text='Иванова', tokens=[...]),\n",
       " DocSpan(start=685, stop=696, type='ORG', text='Центробанка', tokens=[...]),\n",
       " DocSpan(start=908, stop=920, type='ORG', text='Банка России', tokens=[...]),\n",
       " DocSpan(start=921, stop=940, type='PER', text='Эльвиры Набиуллиной', tokens=[...]),\n",
       " DocSpan(start=977, stop=988, type='ORG', text='Центробанка', tokens=[...]),\n",
       " DocSpan(start=1060, stop=1062, type='ORG', text='ЦБ', tokens=[...]),\n",
       " DocSpan(start=1102, stop=1116, type='PER', text='Ксении Юдаевой', tokens=[...]),\n",
       " DocSpan(start=1165, stop=1167, type='LOC', text='РФ', tokens=[...]),\n",
       " DocSpan(start=1193, stop=1208, type='PER', text='Алексей Улюкаев', tokens=[...]),\n",
       " DocSpan(start=1251, stop=1268, type='ORG', text='Минэкономразвития', tokens=[...])]"
      ]
     },
     "execution_count": 44,
     "metadata": {},
     "output_type": "execute_result"
    }
   ],
   "source": [
    "doc.spans"
   ]
  },
  {
   "cell_type": "code",
   "execution_count": 46,
   "metadata": {},
   "outputs": [],
   "source": [
    "with open('./data/train_data/legal/4269_text.txt') as file:\n",
    "    train_text = file.read()\n",
    "\n",
    "with open('./data/train_data/legal/4269_text.ann') as file:\n",
    "    train_ann = file.read()"
   ]
  },
  {
   "cell_type": "code",
   "execution_count": 48,
   "metadata": {},
   "outputs": [],
   "source": [
    "train_doc = Doc(train_text)"
   ]
  },
  {
   "cell_type": "code",
   "execution_count": 54,
   "metadata": {},
   "outputs": [
    {
     "data": {
      "text/plain": [
       "[DocSpan(start=23, stop=29, type='LOC', text='России', tokens=[...]),\n",
       " DocSpan(start=93, stop=99, type='LOC', text='России', tokens=[...]),\n",
       " DocSpan(start=218, stop=256, type='ORG', text='Союз промышленников и предпринимателей', tokens=[...]),\n",
       " DocSpan(start=326, stop=346, type='LOC', text='Свердловской области', tokens=[...]),\n",
       " DocSpan(start=593, stop=608, type='PER', text='Виктор Кокшаров', tokens=[...]),\n",
       " DocSpan(start=895, stop=897, type='LOC', text='РФ', tokens=[...]),\n",
       " DocSpan(start=977, stop=985, type='PER', text='Кокшаров', tokens=[...]),\n",
       " DocSpan(start=1167, stop=1179, type='LOC', text='Средний Урал', tokens=[...]),\n",
       " DocSpan(start=1201, stop=1207, type='LOC', text='России', tokens=[...]),\n",
       " DocSpan(start=1342, stop=1356, type='PER', text='ИТАР-ТАСС-Урал', tokens=[...]),\n",
       " DocSpan(start=1415, stop=1435, type='LOC', text='Свердловская область', tokens=[...])]"
      ]
     },
     "execution_count": 54,
     "metadata": {},
     "output_type": "execute_result"
    }
   ],
   "source": [
    "train_doc.segment(segmenter)\n",
    "train_doc.tag_ner(ner_tagger)\n",
    "train_doc.spans"
   ]
  },
  {
   "cell_type": "code",
   "execution_count": 57,
   "metadata": {},
   "outputs": [
    {
     "data": {
      "text/plain": [
       "'187337_text'"
      ]
     },
     "execution_count": 57,
     "metadata": {},
     "output_type": "execute_result"
    }
   ],
   "source": [
    "'187337_text.txt'[:-4]"
   ]
  },
  {
   "cell_type": "code",
   "execution_count": 8,
   "metadata": {},
   "outputs": [],
   "source": [
    "from collections import Counter\n",
    "import os\n",
    "import re"
   ]
  },
  {
   "cell_type": "code",
   "execution_count": 69,
   "metadata": {},
   "outputs": [],
   "source": [
    "path = './data/test_data/'\n",
    "\n",
    "ners = []\n",
    "for filename in os.listdir(path):\n",
    "    with open(path + filename) as file:\n",
    "        text = file.read()\n",
    "    filename = filename[:-3] + 'ann'\n",
    "    ners.append(filename)\n",
    "\n",
    "    doc = Doc(train_text)\n",
    "    doc.segment(segmenter)\n",
    "    doc.tag_ner(ner_tagger)\n",
    "\n",
    "    for ner in doc.spans:\n",
    "        if ner.type == 'LOC':\n",
    "            tag = 'COUNTRY'\n",
    "        elif ner.type == 'ORG':\n",
    "            tag = 'ORGANIZATION'\n",
    "        elif ner.type == 'PER':\n",
    "            tag = 'PERSON'\n",
    "        \n",
    "        ners.append(f'{tag} {ner.start} {ner.stop}')\n",
    "\n",
    "    ners.append('...')\n",
    "\n",
    "with open(\"answer.txt\", \"w\") as f:\n",
    "    for line in ners:\n",
    "        f.write(line +\"\\n\")"
   ]
  },
  {
   "attachments": {},
   "cell_type": "markdown",
   "metadata": {},
   "source": [
    "# Statistics"
   ]
  },
  {
   "attachments": {},
   "cell_type": "markdown",
   "metadata": {},
   "source": [
    "Let's count tokens distribution over the dataset."
   ]
  },
  {
   "cell_type": "code",
   "execution_count": 9,
   "metadata": {},
   "outputs": [],
   "source": [
    "counter = Counter()\n",
    "\n",
    "path = './data/train_data/tacred2/'\n",
    "\n",
    "for filename in os.listdir(path):\n",
    "    if '.ann' in filename:\n",
    "        with open(path + filename) as file:\n",
    "            lines = [line.rstrip() for line in file]\n",
    "            tags = [re.findall('T[0-9]*\\t([A-Z]*)', line) for line in lines]\n",
    "            for tag in tags:\n",
    "                if len(tag) != 0:\n",
    "                    counter[tag[0]] += 1"
   ]
  },
  {
   "cell_type": "code",
   "execution_count": 10,
   "metadata": {},
   "outputs": [
    {
     "data": {
      "text/plain": [
       "Counter({'ORDINAL': 132,\n",
       "         'PERSON': 1349,\n",
       "         'EVENT': 791,\n",
       "         'NATIONALITY': 128,\n",
       "         'TIME': 76,\n",
       "         'AGE': 199,\n",
       "         'NUMBER': 273,\n",
       "         'DATE': 795,\n",
       "         'COUNTRY': 518,\n",
       "         'AWARD': 171,\n",
       "         'CITY': 389,\n",
       "         'ORGANIZATION': 842,\n",
       "         'PROFESSION': 1213,\n",
       "         'IDEOLOGY': 49,\n",
       "         'LAW': 70,\n",
       "         'FACILITY': 119,\n",
       "         'DISEASE': 141,\n",
       "         'WORK': 155,\n",
       "         'CRIME': 56,\n",
       "         'PRODUCT': 74,\n",
       "         'STATE': 127,\n",
       "         'LANGUAGE': 30,\n",
       "         'MONEY': 27,\n",
       "         'LOCATION': 77,\n",
       "         'PENALTY': 48,\n",
       "         'DISTRICT': 21,\n",
       "         'PERCENT': 11,\n",
       "         'RELIGION': 20,\n",
       "         'FAMILY': 2})"
      ]
     },
     "execution_count": 10,
     "metadata": {},
     "output_type": "execute_result"
    }
   ],
   "source": [
    "counter"
   ]
  },
  {
   "attachments": {},
   "cell_type": "markdown",
   "metadata": {},
   "source": [
    "# DeepPavlov"
   ]
  },
  {
   "cell_type": "code",
   "execution_count": 12,
   "metadata": {},
   "outputs": [
    {
     "name": "stderr",
     "output_type": "stream",
     "text": [
      "2023-04-18 10:19:21.752 INFO in 'deeppavlov.download'['download'] at line 138: Skipped http://files.deeppavlov.ai/v1/ner/ner_ontonotes_bert_torch_crf.tar.gz download because of matching hashes\n",
      "[nltk_data] Downloading package punkt to /home/andrey/nltk_data...\n",
      "[nltk_data]   Package punkt is already up-to-date!\n",
      "[nltk_data] Downloading package stopwords to /home/andrey/nltk_data...\n",
      "[nltk_data]   Package stopwords is already up-to-date!\n",
      "[nltk_data] Downloading package perluniprops to\n",
      "[nltk_data]     /home/andrey/nltk_data...\n",
      "[nltk_data]   Package perluniprops is already up-to-date!\n",
      "[nltk_data] Downloading package nonbreaking_prefixes to\n",
      "[nltk_data]     /home/andrey/nltk_data...\n",
      "[nltk_data]   Package nonbreaking_prefixes is already up-to-date!\n",
      "2023-04-18 10:19:26.682 INFO in 'deeppavlov.core.data.simple_vocab'['simple_vocab'] at line 112: [loading vocabulary from /home/andrey/.deeppavlov/models/ner_ontonotes_bert_torch_crf/tag.dict]\n",
      "Some weights of the model checkpoint at bert-base-cased were not used when initializing BertForTokenClassification: ['cls.predictions.transform.LayerNorm.bias', 'cls.seq_relationship.bias', 'cls.predictions.transform.dense.weight', 'cls.predictions.decoder.weight', 'cls.predictions.transform.dense.bias', 'cls.predictions.bias', 'cls.predictions.transform.LayerNorm.weight', 'cls.seq_relationship.weight']\n",
      "- This IS expected if you are initializing BertForTokenClassification from the checkpoint of a model trained on another task or with another architecture (e.g. initializing a BertForSequenceClassification model from a BertForPreTraining model).\n",
      "- This IS NOT expected if you are initializing BertForTokenClassification from the checkpoint of a model that you expect to be exactly identical (initializing a BertForSequenceClassification model from a BertForSequenceClassification model).\n",
      "Some weights of BertForTokenClassification were not initialized from the model checkpoint at bert-base-cased and are newly initialized: ['classifier.weight', 'classifier.bias']\n",
      "You should probably TRAIN this model on a down-stream task to be able to use it for predictions and inference.\n",
      "2023-04-18 10:19:28.713 INFO in 'deeppavlov.core.models.torch_model'['torch_model'] at line 153: Load path /home/andrey/.deeppavlov/models/ner_ontonotes_bert_torch_crf/model is given.\n",
      "2023-04-18 10:19:28.714 INFO in 'deeppavlov.core.models.torch_model'['torch_model'] at line 160: Load path /home/andrey/.deeppavlov/models/ner_ontonotes_bert_torch_crf/model.pth.tar exists.\n",
      "2023-04-18 10:19:28.714 INFO in 'deeppavlov.core.models.torch_model'['torch_model'] at line 161: Initializing `TorchTransformersSequenceTagger` from saved.\n",
      "2023-04-18 10:19:28.715 INFO in 'deeppavlov.core.models.torch_model'['torch_model'] at line 168: Loading weights from /home/andrey/.deeppavlov/models/ner_ontonotes_bert_torch_crf/model.pth.tar.\n",
      "2023-04-18 10:19:30.61 INFO in 'deeppavlov.core.models.torch_model'['torch_model'] at line 102: Model was successfully initialized! Model summary:\n",
      " BertForTokenClassification(\n",
      "  (bert): BertModel(\n",
      "    (embeddings): BertEmbeddings(\n",
      "      (word_embeddings): Embedding(28996, 768, padding_idx=0)\n",
      "      (position_embeddings): Embedding(512, 768)\n",
      "      (token_type_embeddings): Embedding(2, 768)\n",
      "      (LayerNorm): LayerNorm((768,), eps=1e-12, elementwise_affine=True)\n",
      "      (dropout): Dropout(p=0.1, inplace=False)\n",
      "    )\n",
      "    (encoder): BertEncoder(\n",
      "      (layer): ModuleList(\n",
      "        (0): BertLayer(\n",
      "          (attention): BertAttention(\n",
      "            (self): BertSelfAttention(\n",
      "              (query): Linear(in_features=768, out_features=768, bias=True)\n",
      "              (key): Linear(in_features=768, out_features=768, bias=True)\n",
      "              (value): Linear(in_features=768, out_features=768, bias=True)\n",
      "              (dropout): Dropout(p=0.1, inplace=False)\n",
      "            )\n",
      "            (output): BertSelfOutput(\n",
      "              (dense): Linear(in_features=768, out_features=768, bias=True)\n",
      "              (LayerNorm): LayerNorm((768,), eps=1e-12, elementwise_affine=True)\n",
      "              (dropout): Dropout(p=0.1, inplace=False)\n",
      "            )\n",
      "          )\n",
      "          (intermediate): BertIntermediate(\n",
      "            (dense): Linear(in_features=768, out_features=3072, bias=True)\n",
      "            (intermediate_act_fn): GELUActivation()\n",
      "          )\n",
      "          (output): BertOutput(\n",
      "            (dense): Linear(in_features=3072, out_features=768, bias=True)\n",
      "            (LayerNorm): LayerNorm((768,), eps=1e-12, elementwise_affine=True)\n",
      "            (dropout): Dropout(p=0.1, inplace=False)\n",
      "          )\n",
      "        )\n",
      "        (1): BertLayer(\n",
      "          (attention): BertAttention(\n",
      "            (self): BertSelfAttention(\n",
      "              (query): Linear(in_features=768, out_features=768, bias=True)\n",
      "              (key): Linear(in_features=768, out_features=768, bias=True)\n",
      "              (value): Linear(in_features=768, out_features=768, bias=True)\n",
      "              (dropout): Dropout(p=0.1, inplace=False)\n",
      "            )\n",
      "            (output): BertSelfOutput(\n",
      "              (dense): Linear(in_features=768, out_features=768, bias=True)\n",
      "              (LayerNorm): LayerNorm((768,), eps=1e-12, elementwise_affine=True)\n",
      "              (dropout): Dropout(p=0.1, inplace=False)\n",
      "            )\n",
      "          )\n",
      "          (intermediate): BertIntermediate(\n",
      "            (dense): Linear(in_features=768, out_features=3072, bias=True)\n",
      "            (intermediate_act_fn): GELUActivation()\n",
      "          )\n",
      "          (output): BertOutput(\n",
      "            (dense): Linear(in_features=3072, out_features=768, bias=True)\n",
      "            (LayerNorm): LayerNorm((768,), eps=1e-12, elementwise_affine=True)\n",
      "            (dropout): Dropout(p=0.1, inplace=False)\n",
      "          )\n",
      "        )\n",
      "        (2): BertLayer(\n",
      "          (attention): BertAttention(\n",
      "            (self): BertSelfAttention(\n",
      "              (query): Linear(in_features=768, out_features=768, bias=True)\n",
      "              (key): Linear(in_features=768, out_features=768, bias=True)\n",
      "              (value): Linear(in_features=768, out_features=768, bias=True)\n",
      "              (dropout): Dropout(p=0.1, inplace=False)\n",
      "            )\n",
      "            (output): BertSelfOutput(\n",
      "              (dense): Linear(in_features=768, out_features=768, bias=True)\n",
      "              (LayerNorm): LayerNorm((768,), eps=1e-12, elementwise_affine=True)\n",
      "              (dropout): Dropout(p=0.1, inplace=False)\n",
      "            )\n",
      "          )\n",
      "          (intermediate): BertIntermediate(\n",
      "            (dense): Linear(in_features=768, out_features=3072, bias=True)\n",
      "            (intermediate_act_fn): GELUActivation()\n",
      "          )\n",
      "          (output): BertOutput(\n",
      "            (dense): Linear(in_features=3072, out_features=768, bias=True)\n",
      "            (LayerNorm): LayerNorm((768,), eps=1e-12, elementwise_affine=True)\n",
      "            (dropout): Dropout(p=0.1, inplace=False)\n",
      "          )\n",
      "        )\n",
      "        (3): BertLayer(\n",
      "          (attention): BertAttention(\n",
      "            (self): BertSelfAttention(\n",
      "              (query): Linear(in_features=768, out_features=768, bias=True)\n",
      "              (key): Linear(in_features=768, out_features=768, bias=True)\n",
      "              (value): Linear(in_features=768, out_features=768, bias=True)\n",
      "              (dropout): Dropout(p=0.1, inplace=False)\n",
      "            )\n",
      "            (output): BertSelfOutput(\n",
      "              (dense): Linear(in_features=768, out_features=768, bias=True)\n",
      "              (LayerNorm): LayerNorm((768,), eps=1e-12, elementwise_affine=True)\n",
      "              (dropout): Dropout(p=0.1, inplace=False)\n",
      "            )\n",
      "          )\n",
      "          (intermediate): BertIntermediate(\n",
      "            (dense): Linear(in_features=768, out_features=3072, bias=True)\n",
      "            (intermediate_act_fn): GELUActivation()\n",
      "          )\n",
      "          (output): BertOutput(\n",
      "            (dense): Linear(in_features=3072, out_features=768, bias=True)\n",
      "            (LayerNorm): LayerNorm((768,), eps=1e-12, elementwise_affine=True)\n",
      "            (dropout): Dropout(p=0.1, inplace=False)\n",
      "          )\n",
      "        )\n",
      "        (4): BertLayer(\n",
      "          (attention): BertAttention(\n",
      "            (self): BertSelfAttention(\n",
      "              (query): Linear(in_features=768, out_features=768, bias=True)\n",
      "              (key): Linear(in_features=768, out_features=768, bias=True)\n",
      "              (value): Linear(in_features=768, out_features=768, bias=True)\n",
      "              (dropout): Dropout(p=0.1, inplace=False)\n",
      "            )\n",
      "            (output): BertSelfOutput(\n",
      "              (dense): Linear(in_features=768, out_features=768, bias=True)\n",
      "              (LayerNorm): LayerNorm((768,), eps=1e-12, elementwise_affine=True)\n",
      "              (dropout): Dropout(p=0.1, inplace=False)\n",
      "            )\n",
      "          )\n",
      "          (intermediate): BertIntermediate(\n",
      "            (dense): Linear(in_features=768, out_features=3072, bias=True)\n",
      "            (intermediate_act_fn): GELUActivation()\n",
      "          )\n",
      "          (output): BertOutput(\n",
      "            (dense): Linear(in_features=3072, out_features=768, bias=True)\n",
      "            (LayerNorm): LayerNorm((768,), eps=1e-12, elementwise_affine=True)\n",
      "            (dropout): Dropout(p=0.1, inplace=False)\n",
      "          )\n",
      "        )\n",
      "        (5): BertLayer(\n",
      "          (attention): BertAttention(\n",
      "            (self): BertSelfAttention(\n",
      "              (query): Linear(in_features=768, out_features=768, bias=True)\n",
      "              (key): Linear(in_features=768, out_features=768, bias=True)\n",
      "              (value): Linear(in_features=768, out_features=768, bias=True)\n",
      "              (dropout): Dropout(p=0.1, inplace=False)\n",
      "            )\n",
      "            (output): BertSelfOutput(\n",
      "              (dense): Linear(in_features=768, out_features=768, bias=True)\n",
      "              (LayerNorm): LayerNorm((768,), eps=1e-12, elementwise_affine=True)\n",
      "              (dropout): Dropout(p=0.1, inplace=False)\n",
      "            )\n",
      "          )\n",
      "          (intermediate): BertIntermediate(\n",
      "            (dense): Linear(in_features=768, out_features=3072, bias=True)\n",
      "            (intermediate_act_fn): GELUActivation()\n",
      "          )\n",
      "          (output): BertOutput(\n",
      "            (dense): Linear(in_features=3072, out_features=768, bias=True)\n",
      "            (LayerNorm): LayerNorm((768,), eps=1e-12, elementwise_affine=True)\n",
      "            (dropout): Dropout(p=0.1, inplace=False)\n",
      "          )\n",
      "        )\n",
      "        (6): BertLayer(\n",
      "          (attention): BertAttention(\n",
      "            (self): BertSelfAttention(\n",
      "              (query): Linear(in_features=768, out_features=768, bias=True)\n",
      "              (key): Linear(in_features=768, out_features=768, bias=True)\n",
      "              (value): Linear(in_features=768, out_features=768, bias=True)\n",
      "              (dropout): Dropout(p=0.1, inplace=False)\n",
      "            )\n",
      "            (output): BertSelfOutput(\n",
      "              (dense): Linear(in_features=768, out_features=768, bias=True)\n",
      "              (LayerNorm): LayerNorm((768,), eps=1e-12, elementwise_affine=True)\n",
      "              (dropout): Dropout(p=0.1, inplace=False)\n",
      "            )\n",
      "          )\n",
      "          (intermediate): BertIntermediate(\n",
      "            (dense): Linear(in_features=768, out_features=3072, bias=True)\n",
      "            (intermediate_act_fn): GELUActivation()\n",
      "          )\n",
      "          (output): BertOutput(\n",
      "            (dense): Linear(in_features=3072, out_features=768, bias=True)\n",
      "            (LayerNorm): LayerNorm((768,), eps=1e-12, elementwise_affine=True)\n",
      "            (dropout): Dropout(p=0.1, inplace=False)\n",
      "          )\n",
      "        )\n",
      "        (7): BertLayer(\n",
      "          (attention): BertAttention(\n",
      "            (self): BertSelfAttention(\n",
      "              (query): Linear(in_features=768, out_features=768, bias=True)\n",
      "              (key): Linear(in_features=768, out_features=768, bias=True)\n",
      "              (value): Linear(in_features=768, out_features=768, bias=True)\n",
      "              (dropout): Dropout(p=0.1, inplace=False)\n",
      "            )\n",
      "            (output): BertSelfOutput(\n",
      "              (dense): Linear(in_features=768, out_features=768, bias=True)\n",
      "              (LayerNorm): LayerNorm((768,), eps=1e-12, elementwise_affine=True)\n",
      "              (dropout): Dropout(p=0.1, inplace=False)\n",
      "            )\n",
      "          )\n",
      "          (intermediate): BertIntermediate(\n",
      "            (dense): Linear(in_features=768, out_features=3072, bias=True)\n",
      "            (intermediate_act_fn): GELUActivation()\n",
      "          )\n",
      "          (output): BertOutput(\n",
      "            (dense): Linear(in_features=3072, out_features=768, bias=True)\n",
      "            (LayerNorm): LayerNorm((768,), eps=1e-12, elementwise_affine=True)\n",
      "            (dropout): Dropout(p=0.1, inplace=False)\n",
      "          )\n",
      "        )\n",
      "        (8): BertLayer(\n",
      "          (attention): BertAttention(\n",
      "            (self): BertSelfAttention(\n",
      "              (query): Linear(in_features=768, out_features=768, bias=True)\n",
      "              (key): Linear(in_features=768, out_features=768, bias=True)\n",
      "              (value): Linear(in_features=768, out_features=768, bias=True)\n",
      "              (dropout): Dropout(p=0.1, inplace=False)\n",
      "            )\n",
      "            (output): BertSelfOutput(\n",
      "              (dense): Linear(in_features=768, out_features=768, bias=True)\n",
      "              (LayerNorm): LayerNorm((768,), eps=1e-12, elementwise_affine=True)\n",
      "              (dropout): Dropout(p=0.1, inplace=False)\n",
      "            )\n",
      "          )\n",
      "          (intermediate): BertIntermediate(\n",
      "            (dense): Linear(in_features=768, out_features=3072, bias=True)\n",
      "            (intermediate_act_fn): GELUActivation()\n",
      "          )\n",
      "          (output): BertOutput(\n",
      "            (dense): Linear(in_features=3072, out_features=768, bias=True)\n",
      "            (LayerNorm): LayerNorm((768,), eps=1e-12, elementwise_affine=True)\n",
      "            (dropout): Dropout(p=0.1, inplace=False)\n",
      "          )\n",
      "        )\n",
      "        (9): BertLayer(\n",
      "          (attention): BertAttention(\n",
      "            (self): BertSelfAttention(\n",
      "              (query): Linear(in_features=768, out_features=768, bias=True)\n",
      "              (key): Linear(in_features=768, out_features=768, bias=True)\n",
      "              (value): Linear(in_features=768, out_features=768, bias=True)\n",
      "              (dropout): Dropout(p=0.1, inplace=False)\n",
      "            )\n",
      "            (output): BertSelfOutput(\n",
      "              (dense): Linear(in_features=768, out_features=768, bias=True)\n",
      "              (LayerNorm): LayerNorm((768,), eps=1e-12, elementwise_affine=True)\n",
      "              (dropout): Dropout(p=0.1, inplace=False)\n",
      "            )\n",
      "          )\n",
      "          (intermediate): BertIntermediate(\n",
      "            (dense): Linear(in_features=768, out_features=3072, bias=True)\n",
      "            (intermediate_act_fn): GELUActivation()\n",
      "          )\n",
      "          (output): BertOutput(\n",
      "            (dense): Linear(in_features=3072, out_features=768, bias=True)\n",
      "            (LayerNorm): LayerNorm((768,), eps=1e-12, elementwise_affine=True)\n",
      "            (dropout): Dropout(p=0.1, inplace=False)\n",
      "          )\n",
      "        )\n",
      "        (10): BertLayer(\n",
      "          (attention): BertAttention(\n",
      "            (self): BertSelfAttention(\n",
      "              (query): Linear(in_features=768, out_features=768, bias=True)\n",
      "              (key): Linear(in_features=768, out_features=768, bias=True)\n",
      "              (value): Linear(in_features=768, out_features=768, bias=True)\n",
      "              (dropout): Dropout(p=0.1, inplace=False)\n",
      "            )\n",
      "            (output): BertSelfOutput(\n",
      "              (dense): Linear(in_features=768, out_features=768, bias=True)\n",
      "              (LayerNorm): LayerNorm((768,), eps=1e-12, elementwise_affine=True)\n",
      "              (dropout): Dropout(p=0.1, inplace=False)\n",
      "            )\n",
      "          )\n",
      "          (intermediate): BertIntermediate(\n",
      "            (dense): Linear(in_features=768, out_features=3072, bias=True)\n",
      "            (intermediate_act_fn): GELUActivation()\n",
      "          )\n",
      "          (output): BertOutput(\n",
      "            (dense): Linear(in_features=3072, out_features=768, bias=True)\n",
      "            (LayerNorm): LayerNorm((768,), eps=1e-12, elementwise_affine=True)\n",
      "            (dropout): Dropout(p=0.1, inplace=False)\n",
      "          )\n",
      "        )\n",
      "        (11): BertLayer(\n",
      "          (attention): BertAttention(\n",
      "            (self): BertSelfAttention(\n",
      "              (query): Linear(in_features=768, out_features=768, bias=True)\n",
      "              (key): Linear(in_features=768, out_features=768, bias=True)\n",
      "              (value): Linear(in_features=768, out_features=768, bias=True)\n",
      "              (dropout): Dropout(p=0.1, inplace=False)\n",
      "            )\n",
      "            (output): BertSelfOutput(\n",
      "              (dense): Linear(in_features=768, out_features=768, bias=True)\n",
      "              (LayerNorm): LayerNorm((768,), eps=1e-12, elementwise_affine=True)\n",
      "              (dropout): Dropout(p=0.1, inplace=False)\n",
      "            )\n",
      "          )\n",
      "          (intermediate): BertIntermediate(\n",
      "            (dense): Linear(in_features=768, out_features=3072, bias=True)\n",
      "            (intermediate_act_fn): GELUActivation()\n",
      "          )\n",
      "          (output): BertOutput(\n",
      "            (dense): Linear(in_features=3072, out_features=768, bias=True)\n",
      "            (LayerNorm): LayerNorm((768,), eps=1e-12, elementwise_affine=True)\n",
      "            (dropout): Dropout(p=0.1, inplace=False)\n",
      "          )\n",
      "        )\n",
      "      )\n",
      "    )\n",
      "  )\n",
      "  (dropout): Dropout(p=0.1, inplace=False)\n",
      "  (classifier): Linear(in_features=768, out_features=37, bias=True)\n",
      ")\n"
     ]
    },
    {
     "name": "stdout",
     "output_type": "stream",
     "text": [
      "Andrey B-PERSON\n"
     ]
    },
    {
     "name": "stderr",
     "output_type": "stream",
     "text": [
      "/home/andrey/anaconda3/envs/py39/lib/python3.9/site-packages/torchcrf/__init__.py:305: UserWarning: where received a uint8 condition tensor. This behavior is deprecated and will be removed in a future version of PyTorch. Use a boolean condition instead. (Triggered internally at  /croot/pytorch_1675190298929/work/aten/src/ATen/native/TensorCompare.cpp:402.)\n",
      "  score = torch.where(mask[i].unsqueeze(1), next_score, score)\n"
     ]
    }
   ],
   "source": [
    "from deeppavlov import configs, build_model\n",
    "from deeppavlov import build_model, configs\n",
    "\n",
    "ner_model = build_model(configs.ner.ner_ontonotes_bert, download=True)\n",
    "result = ner_model(['My name is Andrey'])\n",
    "for i in range(len(result[0][0])):\n",
    "     if result [1][0][i] != 'O':\n",
    "         print(result[0][0][i], result[1][0][i])"
   ]
  },
  {
   "cell_type": "code",
   "execution_count": 15,
   "metadata": {},
   "outputs": [
    {
     "name": "stdout",
     "output_type": "stream",
     "text": [
      "Andrey B-PERSON\n"
     ]
    }
   ],
   "source": [
    "result = ner_model(['My name is Andrey'])\n",
    "for i in range(len(result[0][0])):\n",
    "     if result [1][0][i] != 'O':\n",
    "         print(result[0][0][i], result[1][0][i])"
   ]
  },
  {
   "cell_type": "code",
   "execution_count": 27,
   "metadata": {},
   "outputs": [],
   "source": [
    "with open('./data/train_data/legal/4269_text.txt') as file:\n",
    "    lines = [line.rstrip() for line in file]"
   ]
  },
  {
   "cell_type": "code",
   "execution_count": 28,
   "metadata": {},
   "outputs": [
    {
     "data": {
      "text/plain": [
       "['Свердловчане первыми в России поднимают уровень минимальной зарплаты',\n",
       " '',\n",
       " 'Свердловчане первыми в России поднимают уровень минимального размера оплаты труда /МРОТ/. Областное правительство, областная федерация профсоюзов и Союз промышленников и предпринимателей подписали трехстороннее соглашение «О минимальной заработной плате в Свердловской области». С 1 октября 2007 года областной МРОТ установлен на уровне 2,9\\xa0тыс. руб, что на 600 руб больше, чем в целом по стране. С 1 июля 2008 года он возрастет до 3,1\\xa0тыс. руб, а с 1 октября 2008\\xa0— до 3,5\\xa0тыс. руб.',\n",
       " '',\n",
       " 'Председатель областного правительства Виктор Кокшаров рассказал, что работа по повышению МРОТ в области, началась с момента внесения изменений в федеральный закон «О минимальном размере оплаты труда». Этим документом с 1 сентября 2007 года общероссийский уровень МРОТ установлен в сумме 2,3\\xa0тыс. руб. Кроме того, данный закон дал субъектам РФ право определять собственный размер МРОТ в регионе /но не ниже федерального/.',\n",
       " '',\n",
       " 'Кокшаров так же особо подчеркнул, что коренное отличие сегодняшнего соглашения от предыдущих в том, что оно фактически имеет статус областного закона и является обязательным для исполнения.',\n",
       " 'Средний Урал стал первым регионом России, где установлен региональный МРОТ выше федерального норматива.',\n",
       " '',\n",
       " \"'Источник:' новостной портал '[http://www.tass-ural.ru/news/?id=30977 ИТАР-ТАСС-Урал]'\",\n",
       " '',\n",
       " 'Категория:29 августа 2007',\n",
       " 'Категория:Общество',\n",
       " 'Категория:Свердловская область']"
      ]
     },
     "execution_count": 28,
     "metadata": {},
     "output_type": "execute_result"
    }
   ],
   "source": [
    "lines"
   ]
  },
  {
   "cell_type": "code",
   "execution_count": 31,
   "metadata": {},
   "outputs": [
    {
     "name": "stdout",
     "output_type": "stream",
     "text": [
      "1 B-CARDINAL\n",
      "2007 B-DATE\n",
      "2 B-CARDINAL\n",
      "9 B-CARDINAL\n",
      "1 B-CARDINAL\n",
      "2008 B-DATE\n",
      "3 B-CARDINAL\n",
      "1 B-CARDINAL\n",
      "1 B-CARDINAL\n",
      "2008 B-DATE\n",
      "3 B-CARDINAL\n",
      "5 B-CARDINAL\n"
     ]
    }
   ],
   "source": [
    "result = ner_model([lines[2]])\n",
    "for i in range(len(result[0][0])):\n",
    "     if result [1][0][i] != 'O':\n",
    "         print(result[0][0][i], result[1][0][i])"
   ]
  },
  {
   "attachments": {},
   "cell_type": "markdown",
   "metadata": {},
   "source": [
    "# Spacy"
   ]
  },
  {
   "cell_type": "code",
   "execution_count": 32,
   "metadata": {},
   "outputs": [],
   "source": [
    "import spacy\n",
    "from spacy import displacy\n",
    "from collections import Counter\n",
    "import pandas as pd\n",
    "pd.options.display.max_rows = 600\n",
    "pd.options.display.max_colwidth = 400"
   ]
  },
  {
   "cell_type": "code",
   "execution_count": 33,
   "metadata": {},
   "outputs": [],
   "source": [
    "import ru_core_news_md\n",
    "nlp = ru_core_news_md.load()"
   ]
  },
  {
   "cell_type": "code",
   "execution_count": 34,
   "metadata": {},
   "outputs": [
    {
     "data": {
      "text/plain": [
       "['Свердловчане первыми в России поднимают уровень минимальной зарплаты',\n",
       " '',\n",
       " 'Свердловчане первыми в России поднимают уровень минимального размера оплаты труда /МРОТ/. Областное правительство, областная федерация профсоюзов и Союз промышленников и предпринимателей подписали трехстороннее соглашение «О минимальной заработной плате в Свердловской области». С 1 октября 2007 года областной МРОТ установлен на уровне 2,9\\xa0тыс. руб, что на 600 руб больше, чем в целом по стране. С 1 июля 2008 года он возрастет до 3,1\\xa0тыс. руб, а с 1 октября 2008\\xa0— до 3,5\\xa0тыс. руб.',\n",
       " '',\n",
       " 'Председатель областного правительства Виктор Кокшаров рассказал, что работа по повышению МРОТ в области, началась с момента внесения изменений в федеральный закон «О минимальном размере оплаты труда». Этим документом с 1 сентября 2007 года общероссийский уровень МРОТ установлен в сумме 2,3\\xa0тыс. руб. Кроме того, данный закон дал субъектам РФ право определять собственный размер МРОТ в регионе /но не ниже федерального/.',\n",
       " '',\n",
       " 'Кокшаров так же особо подчеркнул, что коренное отличие сегодняшнего соглашения от предыдущих в том, что оно фактически имеет статус областного закона и является обязательным для исполнения.',\n",
       " 'Средний Урал стал первым регионом России, где установлен региональный МРОТ выше федерального норматива.',\n",
       " '',\n",
       " \"'Источник:' новостной портал '[http://www.tass-ural.ru/news/?id=30977 ИТАР-ТАСС-Урал]'\",\n",
       " '',\n",
       " 'Категория:29 августа 2007',\n",
       " 'Категория:Общество',\n",
       " 'Категория:Свердловская область']"
      ]
     },
     "execution_count": 34,
     "metadata": {},
     "output_type": "execute_result"
    }
   ],
   "source": [
    "with open('./data/train_data/legal/4269_text.txt') as file:\n",
    "    lines = [line.rstrip() for line in file]\n",
    "\n",
    "lines"
   ]
  },
  {
   "cell_type": "code",
   "execution_count": 37,
   "metadata": {},
   "outputs": [],
   "source": [
    "document = nlp(lines[4])"
   ]
  },
  {
   "cell_type": "code",
   "execution_count": 38,
   "metadata": {},
   "outputs": [
    {
     "name": "stdout",
     "output_type": "stream",
     "text": [
      "Виктор Кокшаров PER\n",
      "РФ LOC\n"
     ]
    }
   ],
   "source": [
    "for named_entity in document.ents:\n",
    "    print(named_entity, named_entity.label_)"
   ]
  }
 ],
 "metadata": {
  "kernelspec": {
   "display_name": "base",
   "language": "python",
   "name": "python3"
  },
  "language_info": {
   "codemirror_mode": {
    "name": "ipython",
    "version": 3
   },
   "file_extension": ".py",
   "mimetype": "text/x-python",
   "name": "python",
   "nbconvert_exporter": "python",
   "pygments_lexer": "ipython3",
   "version": "3.9.16"
  },
  "orig_nbformat": 4
 },
 "nbformat": 4,
 "nbformat_minor": 2
}
