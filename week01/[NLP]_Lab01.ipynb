{
  "nbformat": 4,
  "nbformat_minor": 0,
  "metadata": {
    "colab": {
      "provenance": []
    },
    "kernelspec": {
      "name": "python3",
      "display_name": "Python 3"
    },
    "language_info": {
      "name": "python"
    }
  },
  "cells": [
    {
      "cell_type": "markdown",
      "source": [
        "# Natural Language Processing. Lab 1\n",
        "Professor: Vladimir Ivanov\n",
        "\n",
        "Teaching Assistant: Aidar Valeev\n"
      ],
      "metadata": {
        "id": "zptEmTA4e49S"
      }
    },
    {
      "cell_type": "markdown",
      "source": [
        "## Task 1\n",
        "Write a python program that does the following :\n",
        "1. retrieve content of a wikipedia page on a topic of your choice - english \n",
        "2. retrieve content of a wikipedia page on a topic of your choice - language of your choice (i.e russian, french)\n",
        "3. preprocess the data \n",
        "4. print distinct words statatistics, number of chapters, number of sentences, numerical values, number of entities with links"
      ],
      "metadata": {
        "id": "xLTldrN-vmIP"
      }
    },
    {
      "cell_type": "code",
      "source": [
        "from nltk.tokenize import word_tokenize, sent_tokenize\n",
        "import nltk\n",
        "nltk.download('punkt')"
      ],
      "metadata": {
        "colab": {
          "base_uri": "https://localhost:8080/"
        },
        "id": "yoAaugORGDan",
        "outputId": "0ea9204a-7802-4f64-9e33-a58e9d84d89c"
      },
      "execution_count": null,
      "outputs": [
        {
          "output_type": "stream",
          "name": "stderr",
          "text": [
            "[nltk_data] Downloading package punkt to /root/nltk_data...\n",
            "[nltk_data]   Package punkt is already up-to-date!\n"
          ]
        },
        {
          "output_type": "execute_result",
          "data": {
            "text/plain": [
              "True"
            ]
          },
          "metadata": {},
          "execution_count": 32
        }
      ]
    },
    {
      "cell_type": "code",
      "source": [
        "english_text = '''\n",
        "Operating system\n",
        "\n",
        "Article\n",
        "Talk\n",
        "Read\n",
        "View source\n",
        "View history\n",
        "Page semi-protected\n",
        "From Wikipedia, the free encyclopedia\n",
        "Operating systems\n",
        "Operating system placement.svg\n",
        "About this image\n",
        "Common features\n",
        "Process managementInterruptsMemory managementFile systemDevice driversNetworkingSecurityI/O\n",
        "vte\n",
        "An operating system (OS) is system software that manages computer hardware, software resources, and provides common services for computer programs.\n",
        "\n",
        "Time-sharing operating systems schedule tasks for efficient use of the system and may also include accounting software for cost allocation of processor time, mass storage, printing, and other resources.\n",
        "\n",
        "For hardware functions such as input and output and memory allocation, the operating system acts as an intermediary between programs and the computer hardware,[1][2] although the application code is usually executed directly by the hardware and frequently makes system calls to an OS function or is interrupted by it. Operating systems are found on many devices that contain a computer – from cellular phones and video game consoles to web servers and supercomputers.\n",
        "\n",
        "The dominant general-purpose personal computer operating system is Microsoft Windows with a market share of around 74.99%. macOS by Apple Inc. is in second place (14.84%), and the varieties of Linux are collectively in third place (2.81%).[3] In the mobile sector (including smartphones and tablets), Android's share is 70.82% in the year 2020.[4] According to third quarter 2016 data, Android's share on smartphones is dominant with 87.5 percent with a growth rate of 10.3 percent per year, followed by Apple's iOS with 12.1 percent with per year decrease in market share of 5.2 percent, while other operating systems amount to just 0.3 percent.[5] Linux distributions are dominant in the server and supercomputing sectors. Other specialized classes of operating systems (special-purpose operating systems),[6][7] such as embedded and real-time systems, exist for many applications. Security-focused operating systems also exist. Some operating systems have low system requirements (e.g. light-weight Linux distribution). Others may have higher system requirements.\n",
        "\n",
        "Some operating systems require installation or may come pre-installed with purchased computers (OEM-installation), whereas others may run directly from media (i.e. live CD) or flash memory (i.e. USB stick).\n",
        "\n",
        "Types of operating systems\n",
        "Single-tasking and multi-tasking\n",
        "A single-tasking system can only run one program at a time, while a multi-tasking operating system allows more than one program to be running concurrently. This is achieved by time-sharing, where the available processor time is divided between multiple processes. These processes are each interrupted repeatedly in time slices by a task-scheduling subsystem of the operating system. Multi-tasking may be characterized in preemptive and cooperative types. In preemptive multitasking, the operating system slices the CPU time and dedicates a slot to each of the programs. Unix-like operating systems, such as Linux—as well as non-Unix-like, such as AmigaOS—support preemptive multitasking. Cooperative multitasking is achieved by relying on each process to provide time to the other processes in a defined manner. 16-bit versions of Microsoft Windows used cooperative multi-tasking; 32-bit versions of both Windows NT and Win9x used preemptive multi-tasking.\n",
        "\n",
        "Single- and multi-user\n",
        "Single-user operating systems have no facilities to distinguish users but may allow multiple programs to run in tandem.[8] A multi-user operating system extends the basic concept of multi-tasking with facilities that identify processes and resources, such as disk space, belonging to multiple users, and the system permits multiple users to interact with the system at the same time. Time-sharing operating systems schedule tasks for efficient use of the system and may also include accounting software for cost allocation of processor time, mass storage, printing, and other resources to multiple users.\n",
        "\n",
        "Distributed\n",
        "A distributed operating system manages a group of distinct, networked computers and makes them appear to be a single computer, as all computations are distributed (divided amongst the constituent computers).[9]\n",
        "\n",
        "Embedded\n",
        "Embedded operating systems are designed to be used in embedded computer systems. They are designed to operate on small machines with less autonomy (e.g. PDAs). They are very compact and extremely efficient by design and are able to operate with a limited amount of resources. Windows CE and Minix 3 are some examples of embedded operating systems.\n",
        "\n",
        "Real-time\n",
        "A real-time operating system is an operating system that guarantees to process events or data by a specific moment in time. A real-time operating system may be single- or multi-tasking, but when multitasking, it uses specialized scheduling algorithms so that a deterministic nature of behavior is achieved. Such an event-driven system switches between tasks based on their priorities or external events, whereas time-sharing operating systems switch tasks based on clock interrupts.\n",
        "\n",
        "Library\n",
        "A library operating system is one in which the services that a typical operating system provides, such as networking, are provided in the form of libraries and composed with the application and configuration code to construct a unikernel: a specialized, single address space, machine image that can be deployed to cloud or embedded environments[further explanation needed].\n",
        "\n",
        "History\n",
        "Main article: History of operating systems\n",
        "See also: Resident monitor\n",
        "Early computers were built to perform a series of single tasks, like a calculator. Basic operating system features were developed in the 1950s, such as resident monitor functions that could automatically run different programs in succession to speed up processing. Operating systems did not exist in their modern and more complex forms until the early 1960s.[10] Hardware features were added, that enabled use of runtime libraries, interrupts, and parallel processing. When personal computers became popular in the 1980s, operating systems were made for them similar in concept to those used on larger computers.\n",
        "\n",
        "In the 1940s, the earliest electronic digital systems had no operating systems. Electronic systems of this time were programmed on rows of mechanical switches or by jumper wires on plugboards. These were special-purpose systems that, for example, generated ballistics tables for the military or controlled the printing of payroll checks from data on punched paper cards. After programmable general-purpose computers were invented, machine languages(consisting of strings of the binary digits 0 and 1 on punched paper tape) were introduced that sped up the programming process (Stern, 1981).[full citation needed]\n",
        "\n",
        "\n",
        "OS/360 was used on most IBM mainframe computers beginning in 1966, including computers used by the Apollo program.\n",
        "In the early 1950s, a computer could execute only one program at a time. Each user had sole use of the computer for a limited period and would arrive at a scheduled time with their program and data on punched paper cards or punched tape. The program would be loaded into the machine, and the machine would be set to work until the program completed or crashed. Programs could generally be debugged via a front panel using toggle switches and panel lights. It is said that Alan Turing was a master of this on the early Manchester Mark 1 machine, and he was already deriving the primitive conception of an operating system from the principles of the universal Turing machine.[10]\n",
        "\n",
        "Later machines came with libraries of programs, which would be linked to a user's program to assist in operations such as input and output and compiling (generating machine code from human-readable symbolic code). This was the genesis of the modern-day operating system. However, machines still ran a single job at a time. At Cambridge University in England, the job queue was at one time a washing line (clothesline) from which tapes were hung with different colored clothes-pegs to indicate job priority.[citation needed]\n",
        "\n",
        "By the late 1950s, programs that one would recognize as an operating system were beginning to appear. Often pointed to as the earliest recognizable example is GM-NAA I/O, released in 1956 on the IBM 704. The first known example that actually referred to itself was the SHARE Operating System, a development of GM-NAA I/O, released in 1959. In a May 1960 paper describing the system, George Ryckman noted:\n",
        "\n",
        "The development of computer operating systems have materially aided the problem of getting a program or series of programs on and off the computer efficiently.[11]\n",
        "\n",
        "One of the more famous examples that is often found in discussions of early systems is the Atlas Supervisor, running on the Atlas in 1962.[12] It was referred to as such in a December 1961 article describing the system, but the context of \"the Operating System\" is more along the lines of \"the system operates in the fashion\". The Atlas team itself used the term \"supervisor\",[13] which was widely used along with \"monitor\". Brinch Hansen described it as \"the most significant breakthrough in the history of operating systems.\"[14]\n",
        "\n",
        "Mainframes\n",
        "Main article: History of operating systems § Mainframes\n",
        "See also: History of IBM mainframe operating systems\n",
        "Through the 1950s, many major features were pioneered in the field of operating systems on mainframe computers, including batch processing, input/output interrupting, buffering, multitasking, spooling, runtime libraries, link-loading, and programs for sorting records in files. These features were included or not included in application software at the option of application programmers, rather than in a separate operating system used by all applications. In 1959, the SHARE Operating System was released as an integrated utility for the IBM 704, and later in the 709 and 7090 mainframes, although it was quickly supplanted by IBSYS/IBJOB on the 709, 7090 and 7094, which in turn influenced the later 7040-PR-150 (7040/7044) and 1410-PR-155 (1410/7010) operating systems.\n",
        "\n",
        "During the 1960s, IBM's OS/360 introduced the concept of a single OS spanning an entire product line, which was crucial for the success of the System/360 machines. IBM's current mainframe operating systems are distant descendants of this original system and modern machines are backward compatible with applications written for OS/360.[citation needed]\n",
        "\n",
        "OS/360 also pioneered the concept that the operating system keeps track of all of the system resources that are used, including program and data space allocation in main memory and file space in secondary storage, and file locking during updates. When a process is terminated for any reason, all of these resources are re-claimed by the operating system.\n",
        "\n",
        "The alternative CP-67 system for the S/360-67 started a whole line of IBM operating systems focused on the concept of virtual machines. Other operating systems used on IBM S/360 series mainframes included systems developed by IBM: DOS/360[a] (Disk Operating System), TSS/360 (Time Sharing System), TOS/360 (Tape Operating System), BOS/360 (Basic Operating System), and ACP (Airline Control Program), as well as a few non-IBM systems: MTS (Michigan Terminal System), MUSIC (Multi-User System for Interactive Computing), and ORVYL (Stanford Timesharing System).\n",
        "\n",
        "Control Data Corporation developed the SCOPE operating system in the 1960s, for batch processing. In cooperation with the University of Minnesota, the Kronos and later the NOS operating systems were developed during the 1970s, which supported simultaneous batch and timesharing use. Like many commercial timesharing systems, its interface was an extension of the Dartmouth BASIC operating systems, one of the pioneering efforts in timesharing and programming languages. In the late 1970s, Control Data and the University of Illinois developed the PLATO operating system, which used plasma panel displays and long-distance time sharing networks. Plato was remarkably innovative for its time, featuring real-time chat, and multi-user graphical games.\n",
        "\n",
        "In 1961, Burroughs Corporation introduced the B5000 with the MCP (Master Control Program) operating system. The B5000 was a stack machine designed to exclusively support high-level languages with no assembler;[b] indeed, the MCP was the first OS to be written exclusively in a high-level language (ESPOL, a dialect of ALGOL). MCP also introduced many other ground-breaking innovations, such as being the first commercial implementation of virtual memory. During development of the AS/400, IBM made an approach to Burroughs to license MCP to run on the AS/400 hardware. This proposal was declined by Burroughs management to protect its existing hardware production. MCP is still in use today in the Unisys company's MCP/ClearPath line of computers.\n",
        "\n",
        "UNIVAC, the first commercial computer manufacturer, produced a series of EXEC operating systems.[15][16][17] Like all early main-frame systems, this batch-oriented system managed magnetic drums, disks, card readers and line printers. In the 1970s, UNIVAC produced the Real-Time Basic (RTB) system to support large-scale time sharing, also patterned after the Dartmouth BC system.\n",
        "\n",
        "General Electric developed General Electric Comprehensive Operating Supervisor (GECOS), which primarily supported batch processing. After its acquisition by Honeywell, it was renamed General Comprehensive Operating System (GCOS).\n",
        "\n",
        "Bell Labs,[c] General Electric and MIT developed Multiplexed Information and Computing Service (Multics), which introduced the concept of ringed security privilege levels.\n",
        "\n",
        "Digital Equipment Corporation developed many operating systems for its various computer lines, including TOPS-10 and TOPS-20 time-sharing systems for the 36-bit PDP-10 class systems. Before the widespread use of UNIX, TOPS-10 was a particularly popular system in universities, and in the early ARPANET community. RT-11 was a single-user real-time OS for the PDP-11 class minicomputer, and RSX-11 was the corresponding multi-user OS.\n",
        "\n",
        "From the late 1960s through the late 1970s, several hardware capabilities evolved that allowed similar or ported software to run on more than one system. Early systems had utilized microprogramming to implement features on their systems in order to permit different underlying computer architectures to appear to be the same as others in a series. In fact, most 360s after the 360/40 (except the 360/44, 360/75, 360/91, 360/95 and 360/195) were microprogrammed implementations.\n",
        "\n",
        "The enormous investment in software for these systems made since the 1960s caused most of the original computer manufacturers to continue to develop compatible operating systems along with the hardware. Notable supported mainframe operating systems include:\n",
        "\n",
        "Burroughs MCP – B5000, 1961 to Unisys Clearpath/MCP, present\n",
        "IBM OS/360 – IBM System/360, 1966 to IBM z/OS, present\n",
        "IBM CP-67 – IBM System/360, 1967 to IBM z/VM\n",
        "UNIVAC EXEC 8 – UNIVAC 1108, 1967, to OS 2200 Unisys Clearpath Dorado, present\n",
        "Microcomputers\n",
        "\n",
        "PC DOS was an early personal computer OS that featured a command-line interface.\n",
        "\n",
        "Mac OS by Apple Computer became the first widespread OS to feature a graphical user interface. Many of its features such as windows and icons would later become commonplace in GUIs.\n",
        "The first microcomputers did not have the capacity or need for the elaborate operating systems that had been developed for mainframes and minis; minimalistic operating systems were developed, often loaded from ROM and known as monitors. One notable early disk operating system was CP/M, which was supported on many early microcomputers and was closely imitated by Microsoft's MS-DOS, which became widely popular as the operating system chosen for the IBM PC (IBM's version of it was called IBM DOS or PC DOS). In the 1980s, Apple Computer Inc. (now Apple Inc.) abandoned its popular Apple II series of microcomputers to introduce the Apple Macintosh computer with an innovative graphical user interface (GUI) to the Mac OS.\n",
        "\n",
        "The introduction of the Intel 80386 CPU chip in October 1985,[18] with 32-bit architecture and paging capabilities, provided personal computers with the ability to run multitasking operating systems like those of earlier minicomputers and mainframes. Microsoft responded to this progress by hiring Dave Cutler, who had developed the VMS operating system for Digital Equipment Corporation. He would lead the development of the Windows NT operating system, which continues to serve as the basis for Microsoft's operating systems line. Steve Jobs, a co-founder of Apple Inc., started NeXT Computer Inc., which developed the NEXTSTEP operating system. NEXTSTEP would later be acquired by Apple Inc. and used, along with code from FreeBSD as the core of Mac OS X (macOS after latest name change).\n",
        "\n",
        "The GNU Project was started by activist and programmer Richard Stallman with the goal of creating a complete free software replacement to the proprietary UNIX operating system. While the project was highly successful in duplicating the functionality of various parts of UNIX, development of the GNU Hurd kernel proved to be unproductive. In 1991, Finnish computer science student Linus Torvalds, with cooperation from volunteers collaborating over the Internet, released the first version of the Linux kernel. It was soon merged with the GNU user space components and system software to form a complete operating system. Since then, the combination of the two major components has usually been referred to as simply \"Linux\" by the software industry, a naming convention that Stallman and the Free Software Foundation remain opposed to, preferring the name GNU/Linux. The Berkeley Software Distribution, known as BSD, is the UNIX derivative distributed by the University of California, Berkeley, starting in the 1970s. Freely distributed and ported to many minicomputers, it eventually also gained a following for use on PCs, mainly as FreeBSD, NetBSD and OpenBSD.\n",
        "\n",
        "Examples\n",
        "Unix and Unix-like operating systems\n",
        "Main article: Unix\n",
        "\n",
        "Evolution of Unix systems\n",
        "Unix was originally written in assembly language.[19] Ken Thompson wrote B, mainly based on BCPL, based on his experience in the MULTICS project. B was replaced by C, and Unix, rewritten in C, developed into a large, complex family of inter-related operating systems which have been influential in every modern operating system (see History).\n",
        "\n",
        "The Unix-like family is a diverse group of operating systems, with several major sub-categories including System V, BSD, and Linux. The name \"UNIX\" is a trademark of The Open Group which licenses it for use with any operating system that has been shown to conform to their definitions. \"UNIX-like\" is commonly used to refer to the large set of operating systems which resemble the original UNIX.\n",
        "\n",
        "Unix-like systems run on a wide variety of computer architectures. They are used heavily for servers in business, as well as workstations in academic and engineering environments. Free UNIX variants, such as Linux and BSD, are popular in these areas.\n",
        "\n",
        "Five operating systems are certified by The Open Group (holder of the Unix trademark) as Unix. HP's HP-UX and IBM's AIX are both descendants of the original System V Unix and are designed to run only on their respective vendor's hardware. In contrast, Sun Microsystems's Solaris can run on multiple types of hardware, including x86 and SPARC servers, and PCs. Apple's macOS, a replacement for Apple's earlier (non-Unix) classic Mac OS, is a hybrid kernel-based BSD variant derived from NeXTSTEP, Mach, and FreeBSD. IBM's z/OS UNIX System Services includes a shell and utilities based on Mortice Kerns' InterOpen products.\n",
        "\n",
        "Unix interoperability was sought by establishing the POSIX standard. The POSIX standard can be applied to any operating system, although it was originally created for various Unix variants.\n",
        "\n",
        "BSD and its descendants\n",
        "Main article: Berkeley Software Distribution\n",
        "\n",
        "The first server for the World Wide Web ran on NeXTSTEP, based on BSD.\n",
        "A subgroup of the Unix family is the Berkeley Software Distribution family, which includes FreeBSD, NetBSD, and OpenBSD. These operating systems are most commonly found on webservers, although they can also function as a personal computer OS. The Internet owes much of its existence to BSD, as many of the protocols now commonly used by computers to connect, send and receive data over a network were widely implemented and refined in BSD. The World Wide Web was also first demonstrated on a number of computers running an OS based on BSD called NeXTSTEP.\n",
        "\n",
        "In 1974, University of California, Berkeley installed its first Unix system. Over time, students and staff in the computer science department there began adding new programs to make things easier, such as text editors. When Berkeley received new VAX computers in 1978 with Unix installed, the school's undergraduates modified Unix even more in order to take advantage of the computer's hardware possibilities. The Defense Advanced Research Projects Agency of the US Department of Defense took interest, and decided to fund the project. Many schools, corporations, and government organizations took notice and started to use Berkeley's version of Unix instead of the official one distributed by AT&T.\n",
        "\n",
        "Steve Jobs, upon leaving Apple Inc. in 1985, formed NeXT Inc., a company that manufactured high-end computers running on a variation of BSD called NeXTSTEP. One of these computers was used by Tim Berners-Lee as the first webserver to create the World Wide Web.\n",
        "\n",
        "Developers like Keith Bostic encouraged the project to replace any non-free code that originated with Bell Labs. Once this was done, however, AT&T sued. After two years of legal disputes, the BSD project spawned a number of free derivatives, such as NetBSD and FreeBSD (both in 1993), and OpenBSD (from NetBSD in 1995).\n",
        "\n",
        "macOS\n",
        "Main article: macOS\n",
        "macOS (formerly \"Mac OS X\" and later \"OS X\") is a line of open core graphical operating systems developed, marketed, and sold by Apple Inc., the latest of which is pre-loaded on all currently shipping Macintosh computers. macOS is the successor to the original classic Mac OS, which had been Apple's primary operating system since 1984. Unlike its predecessor, macOS is a UNIX operating system built on technology that had been developed at NeXT through the second half of the 1980s and up until Apple purchased the company in early 1997. The operating system was first released in 1999 as Mac OS X Server 1.0, followed in March 2001 by a client version (Mac OS X v10.0 \"Cheetah\"). Since then, six more distinct \"client\" and \"server\" editions of macOS have been released, until the two were merged in OS X 10.7 \"Lion\".\n",
        "\n",
        "Prior to its merging with macOS, the server edition – macOS Server – was architecturally identical to its desktop counterpart and usually ran on Apple's line of Macintosh server hardware. macOS Server included work group management and administration software tools that provide simplified access to key network services, including a mail transfer agent, a Samba server, an LDAP server, a domain name server, and others. With Mac OS X v10.7 Lion, all server aspects of Mac OS X Server have been integrated into the client version and the product re-branded as \"OS X\" (dropping \"Mac\" from the name). The server tools are now offered as an application.[20]\n",
        "\n",
        "z/OS UNIX System Services\n",
        "First introduced as the OpenEdition upgrade to MVS/ESA System Product Version 4 Release 3, announced[21] February 1993 with support for POSIX and other standards.[22][23][24] z/OS UNIX System Services is built on top of MVS services and cannot run independently. While IBM initially introduced OpenEdition to satisfy FIPS requirements, several z/OS component now require UNIX services, e.g., TCP/IP.\n",
        "\n",
        "Linux\n",
        "Main articles: Linux and Linux kernel\n",
        "\n",
        "Ubuntu, desktop Linux distribution\n",
        "\n",
        "Linux, a Unix-like operating system was first time released on September 17, 1991, by Linus Torvalds.[25][26][27] Picture of Tux the penguin, mascot of Linux.[28]\n",
        "The Linux kernel originated in 1991, as a project of Linus Torvalds, while a university student in Finland. He posted information about his project on a newsgroup for computer students and programmers, and received support and assistance from volunteers who succeeded in creating a complete and functional kernel.\n",
        "\n",
        "Linux is Unix-like, but was developed without any Unix code, unlike BSD and its variants. Because of its open license model, the Linux kernel code is available for study and modification, which resulted in its use on a wide range of computing machinery from supercomputers to smartwatches. Although estimates suggest that Linux is used on only 2.81% of all \"desktop\" (or laptop) PCs,[3] it has been widely adopted for use in servers[29] and embedded systems[30] such as cell phones. Linux has superseded Unix on many platforms and is used on most supercomputers including the top 385.[31] Many of the same computers are also on Green500 (but in different order), and Linux runs on the top 10. Linux is also commonly used on other small energy-efficient computers, such as smartphones and smartwatches. The Linux kernel is used in some popular distributions, such as Red Hat, Debian, Ubuntu, Linux Mint and Google's Android, ChromeOS, and ChromiumOS.\n",
        "\n",
        "Microsoft Windows\n",
        "Main article: Microsoft Windows\n",
        "Microsoft Windows is a family of proprietary operating systems designed by Microsoft Corporation and primarily targeted to Intel architecture based computers, with an estimated 88.9 percent total usage share on Web connected computers.[32][33][34][35] The latest version is Windows 11.\n",
        "\n",
        "In 2011, Windows 7 overtook Windows XP as the most common version in use.[36][37][38]\n",
        "\n",
        "Microsoft Windows was first released in 1985, as an operating environment running on top of MS-DOS, which was the standard operating system shipped on most Intel architecture personal computers at the time. In 1995, Windows 95 was released which only used MS-DOS as a bootstrap. For backwards compatibility, Win9x could run real-mode MS-DOS[39][40] and 16-bit Windows 3.x[41] drivers. Windows ME, released in 2000, was the last version in the Win9x family. Later versions have all been based on the Windows NT kernel. Current client versions of Windows run on IA-32, x86-64 and ARM microprocessors.[42] In addition Itanium is still supported in older server version Windows Server 2008 R2. In the past, Windows NT supported additional architectures.\n",
        "\n",
        "Server editions of Windows are widely used, however, Windows' usage on servers is not as widespread as on personal computers as Windows competes against Linux and BSD for server market share.[43][44]\n",
        "\n",
        "ReactOS is a Windows-alternative operating system, which is being developed on the principles of Windows – without using any of Microsoft's code.\n",
        "\n",
        "Other\n",
        "There have been many operating systems that were significant in their day but are no longer so, such as AmigaOS; OS/2 from IBM and Microsoft; classic Mac OS, the non-Unix precursor to Apple's macOS; BeOS; XTS-300; RISC OS; MorphOS; Haiku; BareMetal and FreeMint. Some are still used in niche markets and continue to be developed as minority platforms for enthusiast communities and specialist applications.\n",
        "\n",
        "The z/OS operating system for IBM z/Architecture mainframe computers is still being used and developed, and OpenVMS, formerly from DEC, is still under active development by VMS Software Inc. The IBM i operating system for IBM AS/400 and IBM Power Systems midrange computers is also still being used and developed.\n",
        "\n",
        "Yet other operating systems are used almost exclusively in academia, for operating systems education or to do research on operating system concepts. A typical example of a system that fulfills both roles is MINIX, while for example Singularity is used purely for research. Another example is the Oberon System designed at ETH Zürich by Niklaus Wirth, Jürg Gutknecht and a group of students at the former Computer Systems Institute in the 1980s. It was used mainly for research, teaching, and daily work in Wirth's group.\n",
        "\n",
        "Other operating systems have failed to win significant market share, but have introduced innovations that have influenced mainstream operating systems, not least Bell Labs' Plan 9.\n",
        "'''\n",
        "\n",
        "w, s, = word_tokenize(english_text), sent_tokenize(english_text)\n",
        "\n",
        "nlp_words = nltk.FreqDist(w)"
      ],
      "metadata": {
        "id": "bTndZ9m0vjZd"
      },
      "execution_count": null,
      "outputs": []
    },
    {
      "cell_type": "code",
      "source": [
        "nlp_words.plot(20);"
      ],
      "metadata": {
        "colab": {
          "base_uri": "https://localhost:8080/",
          "height": 317
        },
        "id": "PCJs78DiHwf9",
        "outputId": "1c785913-8ed6-4e44-ab7d-36c8b09dd012"
      },
      "execution_count": null,
      "outputs": [
        {
          "output_type": "display_data",
          "data": {
            "text/plain": [
              "<Figure size 432x288 with 1 Axes>"
            ],
            "image/png": "[encoded data removed]"
          },
          "metadata": {
            "needs_background": "light"
          }
        }
      ]
    },
    {
      "cell_type": "code",
      "source": [
        "print(f\"Number of sentences: {len(s)}\")"
      ],
      "metadata": {
        "colab": {
          "base_uri": "https://localhost:8080/"
        },
        "id": "srPGDxjQKB-Q",
        "outputId": "00676ef4-c865-408c-f52d-42278b7f9cd0"
      },
      "execution_count": null,
      "outputs": [
        {
          "output_type": "stream",
          "name": "stdout",
          "text": [
            "Number of sentences: 192\n"
          ]
        }
      ]
    },
    {
      "cell_type": "code",
      "source": [
        "import re\n",
        "\n",
        "counter = 0\n",
        "for number in [re.findall('\\d', token) for token in w]:\n",
        "    if len(number) > 0:\n",
        "        counter += 1\n",
        "\n",
        "print(f'Number of numerical values is: {counter}')"
      ],
      "metadata": {
        "colab": {
          "base_uri": "https://localhost:8080/"
        },
        "id": "BUDTVymPNOOE",
        "outputId": "129853ad-499e-4047-e2eb-c13dadc8abfe"
      },
      "execution_count": null,
      "outputs": [
        {
          "output_type": "stream",
          "name": "stdout",
          "text": [
            "Number of numerical values is: 194\n"
          ]
        }
      ]
    },
    {
      "cell_type": "code",
      "source": [
        "russian_text = '''Операционная система\n",
        "Материал из Википедии — свободной энциклопедии\n",
        "Перейти к навигацииПерейти к поиску\n",
        "У этого термина существуют и другие значения, см. Операционная система (значения).\n",
        "Запрос «OS» перенаправляется сюда; см. также другие значения.\n",
        "Операционная система\n",
        "Operating system placement-ru.svg\n",
        "Описание изображения\n",
        "Схема изображает взаимодействие ОС со всеми необходимыми компонентами.\n",
        "Основные возможности\n",
        "Управление процессамиПрерыванияУправление памятьюОперирование файламиУправление драйверамиВычисления в сетиЗащита компьютераВвод-выводОболочка\n",
        "Операцио́нная систе́ма, сокр. ОС (англ. operating system, OS) — программное обеспечение, управляющее аппаратным обеспечением, предоставляющее абстрактный программный интерфейс для взаимодействия с ним и занимающееся распределением предоставляемых ресурсов, в том числе между прикладными программами. В широком смысле под операционной системой понимается совокупность ядра операционной системы и работающих поверх него программ и утилит, предоставляющих интерфейс для взаимодействия пользователя с компьютером.\n",
        "\n",
        "В логической структуре типичной вычислительной системы операционная система занимает положение между устройствами с их микроархитектурой, машинным языком и, возможно, собственными (встроенными) микропрограммами (драйверами) — с одной стороны — и прикладными программами с другой.\n",
        "\n",
        "Разработчикам программного обеспечения операционная система позволяет абстрагироваться от деталей реализации и функционирования устройств, предоставляя минимально необходимый набор функций (см. интерфейс программирования приложений).\n",
        "\n",
        "В большинстве вычислительных систем операционная система является основной, наиболее важной (а иногда и единственной) частью системного программного обеспечения. С 1990-х годов наиболее распространёнными операционными системами являются системы семейства Windows, Unix и UNIX-подобные системы.\n",
        "\n",
        "\n",
        "Содержание\n",
        "1\tИстория\n",
        "1.1\tПакетный режим\n",
        "1.2\tРазделение времени и многозадачность\n",
        "1.3\tРазделение полномочий\n",
        "1.4\tМасштаб реального времени\n",
        "1.5\tФайловые системы и структуры\n",
        "2\tФункции\n",
        "3\tПонятие\n",
        "4\tЯдро\n",
        "5\tСуществующие операционные системы\n",
        "6\tUNIX, стандартизация операционных систем и POSIX\n",
        "7\tПост-UNIX-архитектуры\n",
        "8\tПримечания\n",
        "9\tЛитература\n",
        "10\tСсылки\n",
        "История\n",
        "Предшественником операционных систем следует считать служебные программы (загрузчики и мониторы), а также библиотеки часто используемых подпрограмм, начавшие разрабатываться с появлением универсальных компьютеров 1-го поколения (конец 1940-х годов). Служебные программы минимизировали физические манипуляции оператора с оборудованием, а библиотеки позволяли избежать многократного программирования одних и тех же действий (осуществления операций ввода-вывода, вычисления математических функций и т. п.).\n",
        "\n",
        "В 1950—1960-х годах сформировались и были реализованы основные идеи, определяющие функциональность ОС: пакетный режим, разделение времени и многозадачность, разделение полномочий, реальный масштаб времени, файловые структуры и файловые системы.\n",
        "\n",
        "Пакетный режим\n",
        "Необходимость оптимального использования дорогостоящих вычислительных ресурсов привела к появлению концепции «пакетного режима» исполнения программ. Пакетный режим предполагает наличие очереди программ на исполнение, причём система может обеспечивать загрузку программы с внешних носителей данных в оперативную память, не дожидаясь завершения исполнения предыдущей программы, что позволяет избежать простоя процессора.\n",
        "\n",
        "Разделение времени и многозадачность\n",
        "Основная статья: Разделение времени\n",
        "Уже пакетный режим в своём развитом варианте требует разделения процессорного времени между выполнением нескольких программ.\n",
        "\n",
        "Необходимость в разделении времени (многозадачности, мультипрограммировании) проявилась ещё сильнее при распространении в качестве устройств ввода-вывода телетайпов (а позднее, терминалов с электронно-лучевыми дисплеями) (1960-е годы). Поскольку скорость клавиатурного ввода (и даже чтения с экрана) данных оператором намного ниже, чем скорость обработки этих данных компьютером, использование компьютера в «монопольном» режиме (с одним оператором) могло привести к простою дорогостоящих вычислительных ресурсов.\n",
        "\n",
        "Разделение времени позволило создать «многопользовательские» системы, в которых один (как правило) центральный процессор и блок оперативной памяти соединялся с многочисленными терминалами. При этом часть задач (таких как ввод или редактирование данных оператором) могла исполняться в режиме диалога, а другие задачи (такие как массивные вычисления) — в пакетном режиме.\n",
        "\n",
        "Разделение полномочий\n",
        "Распространение многопользовательских систем потребовало решения задачи разделения полномочий, позволяющей избежать возможности изменения исполняемой программы или данных одной программы в памяти компьютера другой программой (намеренно или по ошибке), а также изменения самой системы прикладной программой.\n",
        "\n",
        "Реализация разделения полномочий в операционных системах была поддержана разработчиками процессоров, предложивших архитектуры с двумя режимами работы процессора — «реальным» (в котором исполняемой программе доступно всё адресное пространство компьютера) и «защищённым» (в котором доступность адресного пространства ограничена диапазоном, выделенным при запуске программы на исполнение).\n",
        "\n",
        "Масштаб реального времени\n",
        "Основная статья: Операционная система реального времени\n",
        "Применение универсальных компьютеров для управления производственными процессами потребовало реализации «масштаба реального времени» («реального времени») — синхронизации исполнения программ с внешними физическими процессами.\n",
        "\n",
        "Включение функции масштаба реального времени позволило создавать решения, одновременно обслуживающие производственные процессы и решающие другие задачи (в пакетном режиме и/или в режиме разделения времени).\n",
        "\n",
        "Файловые системы и структуры\n",
        "Постепенная замена носителей с последовательным доступом (перфолент, перфокарт и магнитных лент) накопителями произвольного доступа (на магнитных дисках).\n",
        "\n",
        "Файловая система — способ хранения данных на внешних запоминающих устройствах.\n",
        "\n",
        "Функции\n",
        "Основные функции:\n",
        "\n",
        "Исполнение запросов программ (ввод и вывод данных, запуск и остановка других программ, выделение и освобождение дополнительной памяти и др.).\n",
        "Загрузка программ в оперативную память и их выполнение.\n",
        "Стандартизованный доступ к периферийным устройствам (устройства ввода-вывода).\n",
        "Управление оперативной памятью (распределение между процессами, организация виртуальной памяти).\n",
        "Управление доступом к данным на энергонезависимых носителях (таких как жёсткий диск, оптические диски и др.), организованным в той или иной файловой системе.\n",
        "Обеспечение пользовательского интерфейса.\n",
        "Сохранение информации об ошибках системы.\n",
        "\n",
        "OS/360 использовалась на большинстве компьютеров IBM начиная с 1966, включая те компьютеры, которые помогали NASA отправить человека на Луну\n",
        "Дополнительные функции:\n",
        "\n",
        "Параллельное или псевдопараллельное выполнение задач (многозадачность).\n",
        "Эффективное распределение ресурсов вычислительной системы между процессами.\n",
        "Разграничение доступа различных процессов к ресурсам.\n",
        "Организация надёжных вычислений (невозможности одного вычислительного процесса намеренно или по ошибке повлиять на вычисления в другом процессе), основана на разграничении доступа к ресурсам.\n",
        "Взаимодействие между процессами: обмен данными, взаимная синхронизация.\n",
        "Защита самой системы, а также пользовательских данных и программ от действий пользователей (злонамеренных или по незнанию) или приложений.\n",
        "Многопользовательский режим работы и разграничение прав доступа (см.: аутентификация, авторизация).\n",
        "Понятие\n",
        "Существуют две группы определений операционной системы: «набор программ, управляющих оборудованием» и «набор программ, управляющих другими программами». Обе они имеют свой точный технический смысл, который связан с вопросом, в каких случаях требуется операционная система.\n",
        "\n",
        "Есть приложения вычислительной техники, для которых операционные системы излишни. Например, встроенные микрокомпьютеры, содержащиеся во многих бытовых приборах, автомобилях (иногда по десятку в каждом), простейших сотовых телефонах, постоянно исполняют лишь одну программу, запускающуюся по включении. Многие простые игровые приставки — также представляющие собой специализированные микрокомпьютеры — могут обходиться без операционной системы, запуская при включении программу, записанную на вставленном в устройство «картридже» или компакт-диске.\n",
        "\n",
        "Операционные системы нужны:\n",
        "\n",
        "если нужен универсальный механизм сохранения данных;\n",
        "для предоставления программам системных библиотек с часто используемыми подпрограммами;\n",
        "для распределения полномочий;\n",
        "необходима возможность имитации «одновременного» исполнения нескольких программ на одном компьютере;\n",
        "для управления процессами выполнения отдельных программ.\n",
        "Таким образом, современные универсальные операционные системы можно охарактеризовать, прежде всего, как:\n",
        "\n",
        "использующие файловые системы (с универсальным механизмом доступа к данным),\n",
        "многопользовательские (с разделением полномочий),\n",
        "многозадачные (с разделением времени).\n",
        "Многозадачность и распределение полномочий требуют определённой иерархии привилегий компонентов в самой операционной системе. В составе операционной системы различают три группы компонентов:\n",
        "\n",
        "ядро, содержащее планировщик; драйверы устройств, непосредственно управляющие оборудованием; сетевая подсистема, файловая система;\n",
        "системные библиотеки;\n",
        "оболочка с утилитами.\n",
        "Большинство программ, как системных (входящих в операционную систему), так и прикладных, исполняются в непривилегированном («пользовательском») режиме работы процессора и получают доступ к оборудованию (и, при необходимости, к другим ресурсам ядра, а также ресурсам иных программ) только посредством системных вызовов. Ядро исполняется в привилегированном режиме: именно в этом смысле говорят, что система (точнее, её ядро) управляет оборудованием.\n",
        "\n",
        "В определении состава операционной системы значение имеет критерий операциональной целостности (замкнутости): система должна позволять полноценно использовать (включая модификацию) свои компоненты. Поэтому в полный состав операционной системы включают и набор инструментальных средств (от текстовых редакторов до компиляторов, отладчиков и компоновщиков).\n",
        "\n",
        "Ядро\n",
        "Основная статья: Ядро операционной системы\n",
        "Ядро — центральная часть операционной системы, управляющая выполнением процессов, ресурсами вычислительной системы и предоставляющая процессам координированный доступ к этим ресурсам. Основными ресурсами являются процессорное время, память и устройства ввода-вывода. Доступ к файловой системе и сетевое взаимодействие также могут быть реализованы на уровне ядра.\n",
        "\n",
        "Как основополагающий элемент операционной системы, ядро представляет собой наиболее низкий уровень абстракции для доступа приложений к ресурсам вычислительной системы, необходимым для их работы. Как правило, ядро предоставляет такой доступ исполняемым процессам соответствующих приложений за счёт использования механизмов межпроцессного взаимодействия и обращения приложений к системным вызовам ОС.\n",
        "\n",
        "Описанная задача может различаться в зависимости от типа архитектуры ядра и способа её реализации.\n",
        "\n",
        "Объекты ядра ОС:\n",
        "\n",
        "процессы,\n",
        "файлы,\n",
        "события,\n",
        "потоки,\n",
        "семафоры,\n",
        "мьютексы,\n",
        "каналы,\n",
        "файлы, проецируемые в память.\n",
        "'''"
      ],
      "metadata": {
        "id": "r7bY6qFFKdmR"
      },
      "execution_count": null,
      "outputs": []
    },
    {
      "cell_type": "code",
      "source": [
        "w, s, = word_tokenize(russian_text), sent_tokenize(russian_text)\n",
        "\n",
        "nlp_words = nltk.FreqDist(w)"
      ],
      "metadata": {
        "id": "xkxri0H5KidR"
      },
      "execution_count": null,
      "outputs": []
    },
    {
      "cell_type": "code",
      "source": [
        "nlp_words.plot(20);"
      ],
      "metadata": {
        "colab": {
          "base_uri": "https://localhost:8080/",
          "height": 345
        },
        "id": "0gG3n3t9Kr72",
        "outputId": "955023a0-a5e8-4f7e-e979-1664cc77ebaa"
      },
      "execution_count": null,
      "outputs": [
        {
          "output_type": "display_data",
          "data": {
            "text/plain": [
              "<Figure size 432x288 with 1 Axes>"
            ],
            "image/png": "[encoded data removed]"
          },
          "metadata": {
            "needs_background": "light"
          }
        }
      ]
    },
    {
      "cell_type": "code",
      "source": [
        "print(f\"Number of sentences: {len(s)}\")"
      ],
      "metadata": {
        "colab": {
          "base_uri": "https://localhost:8080/"
        },
        "id": "66wHzAS_Kw90",
        "outputId": "973118b2-af1a-4ee3-de58-8c022a6472bc"
      },
      "execution_count": null,
      "outputs": [
        {
          "output_type": "stream",
          "name": "stdout",
          "text": [
            "Number of sentences: 67\n"
          ]
        }
      ]
    },
    {
      "cell_type": "code",
      "source": [
        "import re\n",
        "\n",
        "counter = 0\n",
        "for number in [re.findall('\\d', token) for token in w]:\n",
        "    if len(number) > 0:\n",
        "        counter += 1\n",
        "\n",
        "print(f'Number of numerical values is: {counter}')"
      ],
      "metadata": {
        "colab": {
          "base_uri": "https://localhost:8080/"
        },
        "id": "jyoNJ51OK4C2",
        "outputId": "08c2e7a9-6467-49fb-f5e8-360f37a54b5f"
      },
      "execution_count": null,
      "outputs": [
        {
          "output_type": "stream",
          "name": "stdout",
          "text": [
            "Number of numerical values is: 22\n"
          ]
        }
      ]
    },
    {
      "cell_type": "markdown",
      "source": [
        "## Task 2\n",
        "\n",
        "Write a python program that does the following :\n",
        "1. Retrieve data from sklearn --> (from sklearn.datasets import fetch_20newsgroups)\n",
        "2. Preprocess the data \n",
        "3. Do classification using any classical machine learning method"
      ],
      "metadata": {
        "id": "Q-iN1Xgnv4Vq"
      }
    },
    {
      "cell_type": "code",
      "source": [
        "from sklearn.datasets import fetch_20newsgroups\n",
        "from sklearn.model_selection import train_test_split\n",
        "\n",
        "# X_train, y_train = fetch_20newsgroups(subset='train', return_X_y=True)\n",
        "# X_test, y_test = fetch_20newsgroups(subset='test', return_X_y=True)\n",
        "\n",
        "twenty_train = fetch_20newsgroups(subset='train', shuffle=True, random_state=42)\n",
        "twenty_test = fetch_20newsgroups(subset='test', shuffle=True, random_state=42)"
      ],
      "metadata": {
        "id": "O8dX2rrLwOPT"
      },
      "execution_count": null,
      "outputs": []
    },
    {
      "cell_type": "code",
      "source": [
        "from sklearn.feature_extraction.text import CountVectorizer, TfidfTransformer\n",
        "from sklearn.naive_bayes import MultinomialNB\n",
        "from sklearn.pipeline import Pipeline\n",
        "\n",
        "text_clf = Pipeline([\n",
        "    ('vect', CountVectorizer()),\n",
        "    ('tfidf', TfidfTransformer()),\n",
        "    ('clf', MultinomialNB()),\n",
        "])\n",
        "\n",
        "text_clf = text_clf.fit(twenty_train.data, twenty_train.target)\n",
        "_ = text_clf.fit(twenty_train.data, twenty_train.target)\n",
        "predicted = text_clf.predict(twenty_test.data)"
      ],
      "metadata": {
        "id": "f89Sh0osP0lo"
      },
      "execution_count": null,
      "outputs": []
    },
    {
      "cell_type": "code",
      "source": [
        "from sklearn import metrics\n",
        "\n",
        "print(metrics.classification_report(twenty_test.target, predicted,\n",
        "                                    target_names=twenty_test.target_names))"
      ],
      "metadata": {
        "colab": {
          "base_uri": "https://localhost:8080/"
        },
        "id": "WsgfS0rTSFyZ",
        "outputId": "31d45c76-04ad-40f6-91b9-eb2fe8ef2238"
      },
      "execution_count": null,
      "outputs": [
        {
          "output_type": "stream",
          "name": "stdout",
          "text": [
            "                          precision    recall  f1-score   support\n",
            "\n",
            "             alt.atheism       0.80      0.52      0.63       319\n",
            "           comp.graphics       0.81      0.65      0.72       389\n",
            " comp.os.ms-windows.misc       0.82      0.65      0.73       394\n",
            "comp.sys.ibm.pc.hardware       0.67      0.78      0.72       392\n",
            "   comp.sys.mac.hardware       0.86      0.77      0.81       385\n",
            "          comp.windows.x       0.89      0.75      0.82       395\n",
            "            misc.forsale       0.93      0.69      0.80       390\n",
            "               rec.autos       0.85      0.92      0.88       396\n",
            "         rec.motorcycles       0.94      0.93      0.93       398\n",
            "      rec.sport.baseball       0.92      0.90      0.91       397\n",
            "        rec.sport.hockey       0.89      0.97      0.93       399\n",
            "               sci.crypt       0.59      0.97      0.74       396\n",
            "         sci.electronics       0.84      0.60      0.70       393\n",
            "                 sci.med       0.92      0.74      0.82       396\n",
            "               sci.space       0.84      0.89      0.87       394\n",
            "  soc.religion.christian       0.44      0.98      0.61       398\n",
            "      talk.politics.guns       0.64      0.94      0.76       364\n",
            "   talk.politics.mideast       0.93      0.91      0.92       376\n",
            "      talk.politics.misc       0.96      0.42      0.58       310\n",
            "      talk.religion.misc       0.97      0.14      0.24       251\n",
            "\n",
            "                accuracy                           0.77      7532\n",
            "               macro avg       0.83      0.76      0.76      7532\n",
            "            weighted avg       0.82      0.77      0.77      7532\n",
            "\n"
          ]
        }
      ]
    },
    {
      "cell_type": "markdown",
      "source": [
        "## Task 3\n",
        "\n",
        "Write a python program that does the following :\n",
        "1. Preprocess the given data\n",
        "2. Find entities in the data using regular expressions: dates, names, locations\n",
        "3. Anonymise the names of US presidents\n",
        "4. Highlight the locations\n",
        "5. Sort by dates"
      ],
      "metadata": {
        "id": "p7ucTXjvhHIn"
      }
    },
    {
      "cell_type": "code",
      "source": [
        "TEXT = [\n",
        "    \"Barack Obama was the 44th president of the US and he followed George W. Bush and was followed by Donald Trump in 2017\",\n",
        "    \"As a young man, George H.W. Bush served in World War II as a fighter pilot. In 1944, he was shot down and had to parachute to safety.\",\n",
        "    \"Before he was president, George W. Bush was a cheerleader, a fraternity brother, an oilman, an owner of a professional baseball team, and a governor. After leaving office in 2009, Bush learned to paint.\",\n",
        "    \"Here's something else you probably didn't know about John Adams: He died on the Fourth of July. And he wasn't the only commander in chief to do so. In fact, three of the nation's five founding fathers—Adams, Thomas Jefferson, and James Monroe—died on Independence Day. Adams and Jefferson even passed on the same exact day: July 4, 1826, which happened to be the 50th anniversary of the adoption of the Declaration of Independence.\",\n",
        "    \"At 6 feet 4 inches tall, Abraham Lincoln and Lyndon B. Johnson were America's tallest presidents. But what about America's shortest president? That distinction goes to founding father James Madison (1809-1817), who, at 5 feet 4 inches tall, was a full foot shorter than his tallest peers.\",\n",
        "    \"That changed, however, in October 1860, when Lincoln received a letter from an 11-year-old girl named Grace Bedell. 'If you will let your whiskers grow I will try and get [my brothers] to vote for you,' Bedell wrote to Lincoln. 'You would look a great deal better for your face is so thin. All the ladies like whiskers and they would tease their husbands to vote for you and then you would be president.'\",\n",
        "    \"Richard Nixon was hardly the first president who liked to unwind by rolling a few strikes. Harry S. Truman also enjoyed bowling, and opened the first White House bowling alley in 1947. \",\n",
        "    \"If you had to bet on which U.S. president was the biggest movie fan, you'd probably put your money on America's actor-turned-president, Ronald Reagan (1981-1989). And that would be a great guess. Reagan reportedly watched 363 movies during his two terms in office.\",\n",
        "    \"Thomas Jefferson offered to sell his personal library when the Library of Congress was burned by the British during the War of 1812. He sold them 6487 books from his own collection, the largest in America at the time.\",\n",
        "    \"Born in New York in 1782, Martin Van Buren was the first president to have been born after the American Revolution, technically making him the first American-born president.\",\n",
        "    \"Benjamin Harrison had a tight-knit family and loved to amuse and dote on his grandchildren. He put up the first recorded White House Christmas tree in 1889, and was known to put on the Santa suit for entertainment.\",\n",
        "    \"A 16-year-old Bill Clinton managed to shake hands with President John F. Kennedy at a Boys Nation event in 1963. This would take place just four months before Kennedy's assassination.\",\n",
        "    \"In 1993—two years before he became the governor of Texas—George W. Bush ran the Houston marathon, finishing with a time of 3:44:52. He is the only president to have ever run a marathon.\",\n",
        "]"
      ],
      "metadata": {
        "id": "hWgOrMS0EATE"
      },
      "execution_count": null,
      "outputs": []
    },
    {
      "cell_type": "code",
      "source": [
        "LOCATIONS = [...]\n",
        "NAMES = [...]\n",
        "\n"
      ],
      "metadata": {
        "id": "uh9i4JE4hJx0"
      },
      "execution_count": null,
      "outputs": []
    },
    {
      "cell_type": "markdown",
      "source": [
        "## Task 4\n",
        "\n",
        "Write a python program that does the following :\n",
        "1. Preprocess the data from Task 3\n",
        "2. Find entities in the data using [Gazetteers](https://gatenlp.readthedocs.io/en/latest/gazetteers/) from gatenlp: dates, names, locations\n",
        "3. Anonymise the names of US presidents\n",
        "4. Highlight the locations\n",
        "5. Sort by dates\n"
      ],
      "metadata": {
        "id": "qWy26ZEfpeRk"
      }
    },
    {
      "cell_type": "code",
      "source": [],
      "metadata": {
        "id": "ds_tRbtTJm5e"
      },
      "execution_count": null,
      "outputs": []
    }
  ]
}